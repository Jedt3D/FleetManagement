{
 "cells": [
  {
   "cell_type": "code",
   "execution_count": 3,
   "metadata": {},
   "outputs": [
    {
     "name": "stdout",
     "output_type": "stream",
     "text": [
      "4181.2\n"
     ]
    }
   ],
   "source": [
    "# F = heat rate (baht/kWh)\n",
    "# heat rate full load @100%\n",
    "# เป็น kJ/kWh\n",
    "heat_rate = 10453*1\n",
    "\n",
    "# ดู fuel type และ หน่วยของ fuel type\n",
    "# Bunker oid น้ำมันเตา LHV kJ/kg\n",
    "# LHV lower heating value เผาแล้วได้ค่าความร้อนต่ำสุดเท่าไหร่\n",
    "LHV = 44500 / 1000\n",
    "\n",
    "# kg/kWh\n",
    "fuel_consumption_rate = heat_rate/LHV\n",
    "\n",
    "# baht/unit\n",
    "ราคาขายต่อหน่วย = 17.8\n",
    "\n",
    "# baht/kWh\n",
    "F = fuel_consumption_rate * ราคาขายต่อหน่วย\n",
    "\n",
    "print(F)"
   ]
  },
  {
   "cell_type": "code",
   "execution_count": null,
   "metadata": {},
   "outputs": [],
   "source": [
    "# ต้นทุนการผลิตทั้งโรงที่ 100% จะเท่ากับ F * กำลังการผลิตของโรงนั้น หรือ P\n",
    "# โรงที่ไม่ทำงาน เอาไว้ reserve อย่างเดียวก็คิดค่า R อย่างเดียว\n",
    "# must take/must run  เอามาคำนวณก่อน\n",
    "# merit order คือ ลำดับความสำคัญในการเลือก \n",
    "# เลือก 1 ก่อนเสมอ \n",
    "# มีกราฟ \n",
    "'''\n",
    "เลือกโรงก่อน\n",
    "    แล้วดูว่าต้องไม่น้อยกว่า min MW ที่ต้องการ + reserve อีกราว 25%\n",
    "    demand min ให้เอา pattern ความต้องการรายวัน ของแต่ละเดือน มาคูณเข้ากับค่า max อดีตของเดือนนั้น\n",
    "        แสดง choice ที่ combine คู่ แล้วมี cost ต่ำสุดแต่ละกลุ่มใส่ตารางให้\n",
    "''' "
   ]
  },
  {
   "cell_type": "markdown",
   "metadata": {},
   "source": [
    "# สิ่งที่ต้องส่ง\n",
    "\n",
    "1. demand forcast\n",
    "    * ตารางกรอก profile แต่ละเดือน เพื่อหา % peak ราย ชม. + แยกภาค\n",
    "    * กราฟ power forcast ใน daily ให้\n",
    "    * ตารางกรอก peak แต่ละเดือนของ >= 4 ปี ย้อนหลัง + แยกภาค\n",
    "    * ทำ Holt-Water Forcast ปริมาณการใช้ ล่วงหน้า 10 ปี เป็นกราฟ\n",
    "        * ตอนนี้ได้ pattern การใช้ไฟล่วงหน้า กราฟแท่ง 12 แท่ง ของแต่ละปี\n",
    "        * เลื่อนเลือกปีไปเรื่อยๆ\n",
    "        * แยกตาม \"ภาค\" และรวมทั้งประเทศได้\n",
    "    * กราฟแสดง stack \"Reserver 25%\" ในกราฟแท่งไว้ด้วย\n",
    "    \n",
    "    ดังนั้น เราหา P, R ให้เป็น min ที่ plant ต้องทำได้\n",
    "    Sum Pi >= Demandm + Rm\n",
    "    แล้วค่อยไปคำนวณ cost แต่ละโรงจาก Pi จาก Sum Fi x Pi\n",
    "    เราต้อง min Cost = fn(Pi, Rm)\n",
    "\n",
    "\n",
    "2. ต้นทุน ค่า Fi รอคุณเอ๋คำนวณก่อน\n",
    "    \n",
    "    * ตารางที่ forcast Heat Rate ของแต่ละโรง หรือให้กรอกเอง 10 ปี"
   ]
  },
  {
   "cell_type": "markdown",
   "metadata": {},
   "source": [
    "### ที่ต้องรอจากคุณเอ๋\n",
    "\n",
    "\n",
    "__DONE__ กค 18 ฟอร์มรับโอนรายเดือนจาก มจธ.\n",
    "\n",
    "\n",
    "### Note\n",
    "\n",
    "การคำนวณ ใช้__ทศนิยม__ 3-4 ตำแหน่ง"
   ]
  },
  {
   "cell_type": "code",
   "execution_count": null,
   "metadata": {},
   "outputs": [],
   "source": []
  }
 ],
 "metadata": {
  "kernelspec": {
   "display_name": "Python 3",
   "language": "python",
   "name": "python3"
  },
  "language_info": {
   "codemirror_mode": {
    "name": "ipython",
    "version": 3
   },
   "file_extension": ".py",
   "mimetype": "text/x-python",
   "name": "python",
   "nbconvert_exporter": "python",
   "pygments_lexer": "ipython3",
   "version": "3.7.3"
  }
 },
 "nbformat": 4,
 "nbformat_minor": 2
}
